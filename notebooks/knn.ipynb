{
 "cells": [
  {
   "cell_type": "markdown",
   "source": [
    "<h1 align=center>ساخت مدل</h1>\n",
    "<p align=right>\n",
    "    .در این نوت بوک، مدل را می سازیم و سپس آن را ارزیابی می کنیم\n",
    "</p>"
   ],
   "metadata": {
    "collapsed": false
   }
  },
  {
   "cell_type": "markdown",
   "source": [
    "<h2 align=center>کتابخانه ها</h2>\n",
    "<p align=right>\n",
    "    <ul>\n",
    "        <li>\n",
    "            .از پانداس برای خواندن فایل سی اس وی و کار با دیتافریم استفاده می کنیم\n",
    "        </li>\n",
    "        <li>\n",
    "            .از مدل کا نزدیک ترین همسایه در کتابخانه سایکیت لرن به عنوان مدل اصلی استفاده می کنیم\n",
    "        </li>\n",
    "    </ul>\n",
    "</p>"
   ],
   "metadata": {
    "collapsed": false
   }
  },
  {
   "cell_type": "code",
   "execution_count": 1,
   "metadata": {
    "collapsed": true
   },
   "outputs": [],
   "source": [
    "import pandas as pd\n",
    "from sklearn.neighbors import KNeighborsClassifier"
   ]
  },
  {
   "cell_type": "markdown",
   "source": [
    "<h2 align=center>خواندن داده</h2>\n",
    "<p align=right>\n",
    "    .داده را از فایل سی اس وی شامل داده های آموزش و ارزیابی می خوانیم\n",
    "    <br>\n",
    "    .ستون اندیس نیز با نام نامگذاری نشده، به ستون های دیتافریم اضافه می شود، پس آن ستون اضافی را حذف می کنیم\n",
    "</p>"
   ],
   "metadata": {
    "collapsed": false
   }
  },
  {
   "cell_type": "code",
   "execution_count": 2,
   "outputs": [
    {
     "data": {
      "text/plain": "    Label  Shoulder_to_Hip_Ratio  Eye_to_Ear_Ratio\n0   Front                   1.82              0.47\n1   Front                   2.01              0.58\n2   Front                   1.84              0.50\n3   Front                   1.68              0.50\n4   Front                   1.75              0.52\n5   Front                   1.64              0.49\n6   Front                   1.77              0.47\n7   Front                   1.74              0.55\n8   Front                   1.59              0.50\n9   Front                   1.78              0.47\n10  Front                   1.71              0.54\n11  Front                   1.43              0.51\n12  Front                   1.61              0.56\n13  Front                   1.76              0.49\n14  Front                   1.63              0.60\n15  Front                   1.89              0.46\n16  Front                   1.76              0.61\n17  Front                   1.78              0.54\n18  Front                   1.77              0.53\n19  Front                   1.77              0.41\n20  Front                   1.94              0.53\n21  Front                   1.81              0.52\n22  Front                   1.72              0.50\n23  Front                   1.71              0.52\n24  Front                   1.66              0.52\n25  Front                   1.68              0.42\n26  Front                   1.79              0.47\n27  Front                   1.45              0.48\n28  Front                   1.82              0.56\n29  Front                   1.88              0.55\n30   Side                   1.11              0.56\n31   Side                   1.07              0.54\n32   Side                   1.16              0.58\n33   Side                   0.14              0.57\n34   Side                   0.99              0.54\n35   Side                   1.20              0.50\n36   Side                   0.80              0.51\n37   Side                   1.25              0.58\n38   Side                   1.21              0.62\n39   Side                   0.23              0.60\n40   Side                   0.70              0.61\n41   Side                   0.75              0.60\n42   Side                   0.44              0.61\n43   Side                   1.07              0.57\n44   Side                   0.94              0.58\n45   Side                   1.13              0.60\n46   Side                   1.18              0.54",
      "text/html": "<div>\n<style scoped>\n    .dataframe tbody tr th:only-of-type {\n        vertical-align: middle;\n    }\n\n    .dataframe tbody tr th {\n        vertical-align: top;\n    }\n\n    .dataframe thead th {\n        text-align: right;\n    }\n</style>\n<table border=\"1\" class=\"dataframe\">\n  <thead>\n    <tr style=\"text-align: right;\">\n      <th></th>\n      <th>Label</th>\n      <th>Shoulder_to_Hip_Ratio</th>\n      <th>Eye_to_Ear_Ratio</th>\n    </tr>\n  </thead>\n  <tbody>\n    <tr>\n      <th>0</th>\n      <td>Front</td>\n      <td>1.82</td>\n      <td>0.47</td>\n    </tr>\n    <tr>\n      <th>1</th>\n      <td>Front</td>\n      <td>2.01</td>\n      <td>0.58</td>\n    </tr>\n    <tr>\n      <th>2</th>\n      <td>Front</td>\n      <td>1.84</td>\n      <td>0.50</td>\n    </tr>\n    <tr>\n      <th>3</th>\n      <td>Front</td>\n      <td>1.68</td>\n      <td>0.50</td>\n    </tr>\n    <tr>\n      <th>4</th>\n      <td>Front</td>\n      <td>1.75</td>\n      <td>0.52</td>\n    </tr>\n    <tr>\n      <th>5</th>\n      <td>Front</td>\n      <td>1.64</td>\n      <td>0.49</td>\n    </tr>\n    <tr>\n      <th>6</th>\n      <td>Front</td>\n      <td>1.77</td>\n      <td>0.47</td>\n    </tr>\n    <tr>\n      <th>7</th>\n      <td>Front</td>\n      <td>1.74</td>\n      <td>0.55</td>\n    </tr>\n    <tr>\n      <th>8</th>\n      <td>Front</td>\n      <td>1.59</td>\n      <td>0.50</td>\n    </tr>\n    <tr>\n      <th>9</th>\n      <td>Front</td>\n      <td>1.78</td>\n      <td>0.47</td>\n    </tr>\n    <tr>\n      <th>10</th>\n      <td>Front</td>\n      <td>1.71</td>\n      <td>0.54</td>\n    </tr>\n    <tr>\n      <th>11</th>\n      <td>Front</td>\n      <td>1.43</td>\n      <td>0.51</td>\n    </tr>\n    <tr>\n      <th>12</th>\n      <td>Front</td>\n      <td>1.61</td>\n      <td>0.56</td>\n    </tr>\n    <tr>\n      <th>13</th>\n      <td>Front</td>\n      <td>1.76</td>\n      <td>0.49</td>\n    </tr>\n    <tr>\n      <th>14</th>\n      <td>Front</td>\n      <td>1.63</td>\n      <td>0.60</td>\n    </tr>\n    <tr>\n      <th>15</th>\n      <td>Front</td>\n      <td>1.89</td>\n      <td>0.46</td>\n    </tr>\n    <tr>\n      <th>16</th>\n      <td>Front</td>\n      <td>1.76</td>\n      <td>0.61</td>\n    </tr>\n    <tr>\n      <th>17</th>\n      <td>Front</td>\n      <td>1.78</td>\n      <td>0.54</td>\n    </tr>\n    <tr>\n      <th>18</th>\n      <td>Front</td>\n      <td>1.77</td>\n      <td>0.53</td>\n    </tr>\n    <tr>\n      <th>19</th>\n      <td>Front</td>\n      <td>1.77</td>\n      <td>0.41</td>\n    </tr>\n    <tr>\n      <th>20</th>\n      <td>Front</td>\n      <td>1.94</td>\n      <td>0.53</td>\n    </tr>\n    <tr>\n      <th>21</th>\n      <td>Front</td>\n      <td>1.81</td>\n      <td>0.52</td>\n    </tr>\n    <tr>\n      <th>22</th>\n      <td>Front</td>\n      <td>1.72</td>\n      <td>0.50</td>\n    </tr>\n    <tr>\n      <th>23</th>\n      <td>Front</td>\n      <td>1.71</td>\n      <td>0.52</td>\n    </tr>\n    <tr>\n      <th>24</th>\n      <td>Front</td>\n      <td>1.66</td>\n      <td>0.52</td>\n    </tr>\n    <tr>\n      <th>25</th>\n      <td>Front</td>\n      <td>1.68</td>\n      <td>0.42</td>\n    </tr>\n    <tr>\n      <th>26</th>\n      <td>Front</td>\n      <td>1.79</td>\n      <td>0.47</td>\n    </tr>\n    <tr>\n      <th>27</th>\n      <td>Front</td>\n      <td>1.45</td>\n      <td>0.48</td>\n    </tr>\n    <tr>\n      <th>28</th>\n      <td>Front</td>\n      <td>1.82</td>\n      <td>0.56</td>\n    </tr>\n    <tr>\n      <th>29</th>\n      <td>Front</td>\n      <td>1.88</td>\n      <td>0.55</td>\n    </tr>\n    <tr>\n      <th>30</th>\n      <td>Side</td>\n      <td>1.11</td>\n      <td>0.56</td>\n    </tr>\n    <tr>\n      <th>31</th>\n      <td>Side</td>\n      <td>1.07</td>\n      <td>0.54</td>\n    </tr>\n    <tr>\n      <th>32</th>\n      <td>Side</td>\n      <td>1.16</td>\n      <td>0.58</td>\n    </tr>\n    <tr>\n      <th>33</th>\n      <td>Side</td>\n      <td>0.14</td>\n      <td>0.57</td>\n    </tr>\n    <tr>\n      <th>34</th>\n      <td>Side</td>\n      <td>0.99</td>\n      <td>0.54</td>\n    </tr>\n    <tr>\n      <th>35</th>\n      <td>Side</td>\n      <td>1.20</td>\n      <td>0.50</td>\n    </tr>\n    <tr>\n      <th>36</th>\n      <td>Side</td>\n      <td>0.80</td>\n      <td>0.51</td>\n    </tr>\n    <tr>\n      <th>37</th>\n      <td>Side</td>\n      <td>1.25</td>\n      <td>0.58</td>\n    </tr>\n    <tr>\n      <th>38</th>\n      <td>Side</td>\n      <td>1.21</td>\n      <td>0.62</td>\n    </tr>\n    <tr>\n      <th>39</th>\n      <td>Side</td>\n      <td>0.23</td>\n      <td>0.60</td>\n    </tr>\n    <tr>\n      <th>40</th>\n      <td>Side</td>\n      <td>0.70</td>\n      <td>0.61</td>\n    </tr>\n    <tr>\n      <th>41</th>\n      <td>Side</td>\n      <td>0.75</td>\n      <td>0.60</td>\n    </tr>\n    <tr>\n      <th>42</th>\n      <td>Side</td>\n      <td>0.44</td>\n      <td>0.61</td>\n    </tr>\n    <tr>\n      <th>43</th>\n      <td>Side</td>\n      <td>1.07</td>\n      <td>0.57</td>\n    </tr>\n    <tr>\n      <th>44</th>\n      <td>Side</td>\n      <td>0.94</td>\n      <td>0.58</td>\n    </tr>\n    <tr>\n      <th>45</th>\n      <td>Side</td>\n      <td>1.13</td>\n      <td>0.60</td>\n    </tr>\n    <tr>\n      <th>46</th>\n      <td>Side</td>\n      <td>1.18</td>\n      <td>0.54</td>\n    </tr>\n  </tbody>\n</table>\n</div>"
     },
     "execution_count": 2,
     "metadata": {},
     "output_type": "execute_result"
    }
   ],
   "source": [
    "df = pd.read_csv('train data.csv')\n",
    "df.drop(columns='Unnamed: 0', inplace=True)\n",
    "df"
   ],
   "metadata": {
    "collapsed": false,
    "pycharm": {
     "name": "#%%\n"
    }
   }
  },
  {
   "cell_type": "code",
   "execution_count": 3,
   "outputs": [
    {
     "data": {
      "text/plain": "    Label  Shoulder_to_Hip_Ratio  Eye_to_Ear_Ratio\n0   Front                   1.44              0.51\n1   Front                   1.61              0.54\n2   Front                   1.38              0.54\n3   Front                   1.37              0.51\n4   Front                   1.59              0.53\n5   Front                   1.55              0.58\n6   Front                   1.55              0.56\n7   Front                   1.55              0.55\n8   Front                   1.46              0.54\n9    Side                   1.40              0.53\n10   Side                   1.12              0.56\n11   Side                   0.89              0.55\n12   Side                   1.13              0.48\n13   Side                   1.18              0.72\n14   Side                   0.58              0.57\n15   Side                   1.07              0.58\n16   Side                   0.82              0.54",
      "text/html": "<div>\n<style scoped>\n    .dataframe tbody tr th:only-of-type {\n        vertical-align: middle;\n    }\n\n    .dataframe tbody tr th {\n        vertical-align: top;\n    }\n\n    .dataframe thead th {\n        text-align: right;\n    }\n</style>\n<table border=\"1\" class=\"dataframe\">\n  <thead>\n    <tr style=\"text-align: right;\">\n      <th></th>\n      <th>Label</th>\n      <th>Shoulder_to_Hip_Ratio</th>\n      <th>Eye_to_Ear_Ratio</th>\n    </tr>\n  </thead>\n  <tbody>\n    <tr>\n      <th>0</th>\n      <td>Front</td>\n      <td>1.44</td>\n      <td>0.51</td>\n    </tr>\n    <tr>\n      <th>1</th>\n      <td>Front</td>\n      <td>1.61</td>\n      <td>0.54</td>\n    </tr>\n    <tr>\n      <th>2</th>\n      <td>Front</td>\n      <td>1.38</td>\n      <td>0.54</td>\n    </tr>\n    <tr>\n      <th>3</th>\n      <td>Front</td>\n      <td>1.37</td>\n      <td>0.51</td>\n    </tr>\n    <tr>\n      <th>4</th>\n      <td>Front</td>\n      <td>1.59</td>\n      <td>0.53</td>\n    </tr>\n    <tr>\n      <th>5</th>\n      <td>Front</td>\n      <td>1.55</td>\n      <td>0.58</td>\n    </tr>\n    <tr>\n      <th>6</th>\n      <td>Front</td>\n      <td>1.55</td>\n      <td>0.56</td>\n    </tr>\n    <tr>\n      <th>7</th>\n      <td>Front</td>\n      <td>1.55</td>\n      <td>0.55</td>\n    </tr>\n    <tr>\n      <th>8</th>\n      <td>Front</td>\n      <td>1.46</td>\n      <td>0.54</td>\n    </tr>\n    <tr>\n      <th>9</th>\n      <td>Side</td>\n      <td>1.40</td>\n      <td>0.53</td>\n    </tr>\n    <tr>\n      <th>10</th>\n      <td>Side</td>\n      <td>1.12</td>\n      <td>0.56</td>\n    </tr>\n    <tr>\n      <th>11</th>\n      <td>Side</td>\n      <td>0.89</td>\n      <td>0.55</td>\n    </tr>\n    <tr>\n      <th>12</th>\n      <td>Side</td>\n      <td>1.13</td>\n      <td>0.48</td>\n    </tr>\n    <tr>\n      <th>13</th>\n      <td>Side</td>\n      <td>1.18</td>\n      <td>0.72</td>\n    </tr>\n    <tr>\n      <th>14</th>\n      <td>Side</td>\n      <td>0.58</td>\n      <td>0.57</td>\n    </tr>\n    <tr>\n      <th>15</th>\n      <td>Side</td>\n      <td>1.07</td>\n      <td>0.58</td>\n    </tr>\n    <tr>\n      <th>16</th>\n      <td>Side</td>\n      <td>0.82</td>\n      <td>0.54</td>\n    </tr>\n  </tbody>\n</table>\n</div>"
     },
     "execution_count": 3,
     "metadata": {},
     "output_type": "execute_result"
    }
   ],
   "source": [
    "df_test = pd.read_csv('test data.csv')\n",
    "df_test.drop(columns='Unnamed: 0', inplace=True)\n",
    "df_test"
   ],
   "metadata": {
    "collapsed": false,
    "pycharm": {
     "name": "#%%\n"
    }
   }
  },
  {
   "cell_type": "markdown",
   "source": [
    "<h2 align=center>ساخت مدل</h2>\n",
    "<p align=right>\n",
    "    .ابتدا داده آموزش و ارزیابی را به دو قسمت ایکس یا ویژگی ها و ایگرگ یا برچسب ها تقسیم می کنیم\n",
    "</p>"
   ],
   "metadata": {
    "collapsed": false
   }
  },
  {
   "cell_type": "code",
   "execution_count": 4,
   "outputs": [],
   "source": [
    "X_train = df[['Shoulder_to_Hip_Ratio', 'Eye_to_Ear_Ratio']]\n",
    "y_train = df['Label']"
   ],
   "metadata": {
    "collapsed": false,
    "pycharm": {
     "name": "#%%\n"
    }
   }
  },
  {
   "cell_type": "code",
   "execution_count": 5,
   "outputs": [],
   "source": [
    "X_test = df_test[['Shoulder_to_Hip_Ratio', 'Eye_to_Ear_Ratio']]\n",
    "y_test = df_test['Label']"
   ],
   "metadata": {
    "collapsed": false,
    "pycharm": {
     "name": "#%%\n"
    }
   }
  },
  {
   "cell_type": "markdown",
   "source": [
    "2. Then, we make our classifier by class `KNeighborsClassifier`\n",
    "3. Train our classifier with `X_train` and `y_train` by `fit()` method."
   ],
   "metadata": {
    "collapsed": false
   }
  },
  {
   "cell_type": "markdown",
   "source": [
    "<p align=right>\n",
    "    .سپس، مدل خود با کمک مدل کا نزدیکترین همسایه کتابخانه سایکیت لرن می سازیم\n",
    "    .و مدل را با داده های آموزش ایکس و ایگرگ آموزش می دهیم\n",
    "</p>"
   ],
   "metadata": {
    "collapsed": false
   }
  },
  {
   "cell_type": "code",
   "execution_count": 6,
   "outputs": [
    {
     "data": {
      "text/plain": "KNeighborsClassifier(n_neighbors=3)",
      "text/html": "<style>#sk-container-id-1 {color: black;}#sk-container-id-1 pre{padding: 0;}#sk-container-id-1 div.sk-toggleable {background-color: white;}#sk-container-id-1 label.sk-toggleable__label {cursor: pointer;display: block;width: 100%;margin-bottom: 0;padding: 0.3em;box-sizing: border-box;text-align: center;}#sk-container-id-1 label.sk-toggleable__label-arrow:before {content: \"▸\";float: left;margin-right: 0.25em;color: #696969;}#sk-container-id-1 label.sk-toggleable__label-arrow:hover:before {color: black;}#sk-container-id-1 div.sk-estimator:hover label.sk-toggleable__label-arrow:before {color: black;}#sk-container-id-1 div.sk-toggleable__content {max-height: 0;max-width: 0;overflow: hidden;text-align: left;background-color: #f0f8ff;}#sk-container-id-1 div.sk-toggleable__content pre {margin: 0.2em;color: black;border-radius: 0.25em;background-color: #f0f8ff;}#sk-container-id-1 input.sk-toggleable__control:checked~div.sk-toggleable__content {max-height: 200px;max-width: 100%;overflow: auto;}#sk-container-id-1 input.sk-toggleable__control:checked~label.sk-toggleable__label-arrow:before {content: \"▾\";}#sk-container-id-1 div.sk-estimator input.sk-toggleable__control:checked~label.sk-toggleable__label {background-color: #d4ebff;}#sk-container-id-1 div.sk-label input.sk-toggleable__control:checked~label.sk-toggleable__label {background-color: #d4ebff;}#sk-container-id-1 input.sk-hidden--visually {border: 0;clip: rect(1px 1px 1px 1px);clip: rect(1px, 1px, 1px, 1px);height: 1px;margin: -1px;overflow: hidden;padding: 0;position: absolute;width: 1px;}#sk-container-id-1 div.sk-estimator {font-family: monospace;background-color: #f0f8ff;border: 1px dotted black;border-radius: 0.25em;box-sizing: border-box;margin-bottom: 0.5em;}#sk-container-id-1 div.sk-estimator:hover {background-color: #d4ebff;}#sk-container-id-1 div.sk-parallel-item::after {content: \"\";width: 100%;border-bottom: 1px solid gray;flex-grow: 1;}#sk-container-id-1 div.sk-label:hover label.sk-toggleable__label {background-color: #d4ebff;}#sk-container-id-1 div.sk-serial::before {content: \"\";position: absolute;border-left: 1px solid gray;box-sizing: border-box;top: 0;bottom: 0;left: 50%;z-index: 0;}#sk-container-id-1 div.sk-serial {display: flex;flex-direction: column;align-items: center;background-color: white;padding-right: 0.2em;padding-left: 0.2em;position: relative;}#sk-container-id-1 div.sk-item {position: relative;z-index: 1;}#sk-container-id-1 div.sk-parallel {display: flex;align-items: stretch;justify-content: center;background-color: white;position: relative;}#sk-container-id-1 div.sk-item::before, #sk-container-id-1 div.sk-parallel-item::before {content: \"\";position: absolute;border-left: 1px solid gray;box-sizing: border-box;top: 0;bottom: 0;left: 50%;z-index: -1;}#sk-container-id-1 div.sk-parallel-item {display: flex;flex-direction: column;z-index: 1;position: relative;background-color: white;}#sk-container-id-1 div.sk-parallel-item:first-child::after {align-self: flex-end;width: 50%;}#sk-container-id-1 div.sk-parallel-item:last-child::after {align-self: flex-start;width: 50%;}#sk-container-id-1 div.sk-parallel-item:only-child::after {width: 0;}#sk-container-id-1 div.sk-dashed-wrapped {border: 1px dashed gray;margin: 0 0.4em 0.5em 0.4em;box-sizing: border-box;padding-bottom: 0.4em;background-color: white;}#sk-container-id-1 div.sk-label label {font-family: monospace;font-weight: bold;display: inline-block;line-height: 1.2em;}#sk-container-id-1 div.sk-label-container {text-align: center;}#sk-container-id-1 div.sk-container {/* jupyter's `normalize.less` sets `[hidden] { display: none; }` but bootstrap.min.css set `[hidden] { display: none !important; }` so we also need the `!important` here to be able to override the default hidden behavior on the sphinx rendered scikit-learn.org. See: https://github.com/scikit-learn/scikit-learn/issues/21755 */display: inline-block !important;position: relative;}#sk-container-id-1 div.sk-text-repr-fallback {display: none;}</style><div id=\"sk-container-id-1\" class=\"sk-top-container\"><div class=\"sk-text-repr-fallback\"><pre>KNeighborsClassifier(n_neighbors=3)</pre><b>In a Jupyter environment, please rerun this cell to show the HTML representation or trust the notebook. <br />On GitHub, the HTML representation is unable to render, please try loading this page with nbviewer.org.</b></div><div class=\"sk-container\" hidden><div class=\"sk-item\"><div class=\"sk-estimator sk-toggleable\"><input class=\"sk-toggleable__control sk-hidden--visually\" id=\"sk-estimator-id-1\" type=\"checkbox\" checked><label for=\"sk-estimator-id-1\" class=\"sk-toggleable__label sk-toggleable__label-arrow\">KNeighborsClassifier</label><div class=\"sk-toggleable__content\"><pre>KNeighborsClassifier(n_neighbors=3)</pre></div></div></div></div></div>"
     },
     "execution_count": 6,
     "metadata": {},
     "output_type": "execute_result"
    }
   ],
   "source": [
    "classifier = KNeighborsClassifier(n_neighbors=3)\n",
    "classifier.fit(X_train, y_train)"
   ],
   "metadata": {
    "collapsed": false,
    "pycharm": {
     "name": "#%%\n"
    }
   }
  },
  {
   "cell_type": "markdown",
   "source": [
    "<h2 align=center>پیش بینی</h2>\n",
    "<p align=right>\n",
    "    .می توان به سادگی با متد پیش بینی و داده ارزیابی ایکس، پیش بینی مدل را ذخیره کرد\n",
    "</p>"
   ],
   "metadata": {
    "collapsed": false
   }
  },
  {
   "cell_type": "code",
   "execution_count": 7,
   "outputs": [],
   "source": [
    "y_pred = classifier.predict(X_test)"
   ],
   "metadata": {
    "collapsed": false,
    "pycharm": {
     "name": "#%%\n"
    }
   }
  },
  {
   "cell_type": "markdown",
   "source": [
    "<h2 align=center>ارزیابی</h2>\n",
    "<p align=right>\n",
    "    <ul>\n",
    "        <li>\n",
    "            با تابع ماتریس درهم ریختگی از کتابخانه سایکیت لرن و دادن داده آموزش ایگرگ و پیش بینی مدل به آن، می توان ماتریس درهم ریختگی مدل را دید\n",
    "        </li>\n",
    "        <li>\n",
    "            با تابع گزارش دسته بندی از کتابخانه سایکیت لرن و دادن داده آموزش ایگرگ و پیش بینی مدل به آن، می توان یک گزارش از نتیجه انواع معیار ارزیابی مدل مشاهده کرد\n",
    "        </li>\n",
    "    </ul>\n",
    "</p>"
   ],
   "metadata": {
    "collapsed": false
   }
  },
  {
   "cell_type": "code",
   "execution_count": 8,
   "outputs": [],
   "source": [
    "from sklearn.metrics import classification_report, confusion_matrix\n",
    "matrix = confusion_matrix(y_test, y_pred)\n",
    "report = classification_report(y_test, y_pred)"
   ],
   "metadata": {
    "collapsed": false,
    "pycharm": {
     "name": "#%%\n"
    }
   }
  },
  {
   "cell_type": "code",
   "execution_count": 9,
   "outputs": [
    {
     "data": {
      "text/plain": "array([[9, 0],\n       [1, 7]], dtype=int64)"
     },
     "execution_count": 9,
     "metadata": {},
     "output_type": "execute_result"
    }
   ],
   "source": [
    "matrix"
   ],
   "metadata": {
    "collapsed": false,
    "pycharm": {
     "name": "#%%\n"
    }
   }
  },
  {
   "cell_type": "code",
   "execution_count": 10,
   "outputs": [
    {
     "name": "stdout",
     "output_type": "stream",
     "text": [
      "              precision    recall  f1-score   support\n",
      "\n",
      "       Front       0.90      1.00      0.95         9\n",
      "        Side       1.00      0.88      0.93         8\n",
      "\n",
      "    accuracy                           0.94        17\n",
      "   macro avg       0.95      0.94      0.94        17\n",
      "weighted avg       0.95      0.94      0.94        17\n",
      "\n"
     ]
    }
   ],
   "source": [
    "print(report)"
   ],
   "metadata": {
    "collapsed": false,
    "pycharm": {
     "name": "#%%\n"
    }
   }
  }
 ],
 "metadata": {
  "kernelspec": {
   "display_name": "Python 3",
   "language": "python",
   "name": "python3"
  },
  "language_info": {
   "codemirror_mode": {
    "name": "ipython",
    "version": 2
   },
   "file_extension": ".py",
   "mimetype": "text/x-python",
   "name": "python",
   "nbconvert_exporter": "python",
   "pygments_lexer": "ipython2",
   "version": "2.7.6"
  }
 },
 "nbformat": 4,
 "nbformat_minor": 0
}